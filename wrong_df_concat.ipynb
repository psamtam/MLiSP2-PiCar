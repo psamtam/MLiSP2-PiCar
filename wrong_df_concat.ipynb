{
 "cells": [
  {
   "cell_type": "code",
   "execution_count": 2,
   "metadata": {},
   "outputs": [],
   "source": [
    "import numpy as np\n",
    "import pandas as pd"
   ]
  },
  {
   "cell_type": "code",
   "execution_count": 4,
   "metadata": {},
   "outputs": [],
   "source": [
    "df_name_list = [\n",
    "  \"wrong_df_small.csv\",\n",
    "  \"wrong_df_small_2.csv\",\n",
    "  \"wrong_df_small_3.csv\",\n",
    "  \"wrong_df_small_4.csv\",\n",
    "]"
   ]
  },
  {
   "cell_type": "code",
   "execution_count": 24,
   "metadata": {},
   "outputs": [],
   "source": [
    "df_list = []\n",
    "\n",
    "for df_name in df_name_list:\n",
    "  df_list.append(pd.read_csv(df_name).set_index(\"image_id\"))\n",
    "\n",
    "df = pd.concat(df_list)\n",
    "\n",
    "image_ids = np.unique(df.index)\n",
    "\n",
    "pd.DataFrame({\"image_id\": image_ids}).to_csv(\"wrong_df_concat.csv\", index=False)"
   ]
  }
 ],
 "metadata": {
  "kernelspec": {
   "display_name": "mlis2",
   "language": "python",
   "name": "python3"
  },
  "language_info": {
   "codemirror_mode": {
    "name": "ipython",
    "version": 3
   },
   "file_extension": ".py",
   "mimetype": "text/x-python",
   "name": "python",
   "nbconvert_exporter": "python",
   "pygments_lexer": "ipython3",
   "version": "3.9.21"
  }
 },
 "nbformat": 4,
 "nbformat_minor": 2
}
