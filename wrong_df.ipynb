{
 "cells": [
  {
   "cell_type": "code",
   "execution_count": 2,
   "metadata": {},
   "outputs": [],
   "source": [
    "import numpy as np\n",
    "import pandas as pd"
   ]
  },
  {
   "cell_type": "code",
   "execution_count": 3,
   "metadata": {},
   "outputs": [],
   "source": [
    "df1 = pd.read_csv(\"wrong_df_1.csv\")\n",
    "df2 = pd.read_csv(\"wrong_df_2.csv\")\n",
    "# df1 = df1.set_index('image_id')\n",
    "# df2 = df2.set_index('image_id')\n",
    "# df3 = df3.set_index('image_id')\n",
    "wrong = pd.concat([df1, df2])\n",
    "wrong_unique = (np.unique(np.array(wrong['id'])))"
   ]
  },
  {
   "cell_type": "code",
   "execution_count": 4,
   "metadata": {},
   "outputs": [],
   "source": [
    "df = pd.DataFrame({'image_id': wrong_unique})\n",
    "df.set_index('image_id', inplace=True)\n",
    "df = df.sort_index()\n",
    "df.to_csv(\"wrong_df_small_4.csv\")"
   ]
  }
 ],
 "metadata": {
  "kernelspec": {
   "display_name": "mlis2",
   "language": "python",
   "name": "python3"
  },
  "language_info": {
   "codemirror_mode": {
    "name": "ipython",
    "version": 3
   },
   "file_extension": ".py",
   "mimetype": "text/x-python",
   "name": "python",
   "nbconvert_exporter": "python",
   "pygments_lexer": "ipython3",
   "version": "3.9.21"
  }
 },
 "nbformat": 4,
 "nbformat_minor": 2
}
