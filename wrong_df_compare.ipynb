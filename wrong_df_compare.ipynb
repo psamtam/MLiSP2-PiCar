{
 "cells": [
  {
   "cell_type": "code",
   "execution_count": 1,
   "metadata": {},
   "outputs": [],
   "source": [
    "import numpy as np\n",
    "import pandas as pd"
   ]
  },
  {
   "cell_type": "code",
   "execution_count": 22,
   "metadata": {},
   "outputs": [],
   "source": [
    "df1 = pd.read_csv(\"wrong_df_small_3.csv\")\n",
    "df2 = pd.read_csv(\"wrong_df_small_4.csv\")"
   ]
  },
  {
   "cell_type": "code",
   "execution_count": 23,
   "metadata": {},
   "outputs": [],
   "source": [
    "id1 = np.array(df1['image_id'].tolist())\n",
    "id2 = np.array(df2['image_id'].tolist())"
   ]
  },
  {
   "cell_type": "code",
   "execution_count": 24,
   "metadata": {},
   "outputs": [
    {
     "data": {
      "text/plain": [
       "array([   29,    45,   303,   311,   393,   440,   469,   479,   676,\n",
       "         692,   732,  1021,  1161,  1293,  1423,  1430,  1580,  1766,\n",
       "        1777,  1890,  1931,  2370,  2557,  2736,  2784,  3072,  3262,\n",
       "        3308,  3431,  3583,  3621,  3793,  3857,  3983,  4198,  4234,\n",
       "        4266,  4329,  4374,  4400,  4725,  4923,  4929,  5129,  5217,\n",
       "        5417,  5450,  5482,  5519,  5557,  5639,  5659,  5954,  6034,\n",
       "        6157,  6194,  6268,  6663,  6686,  6733,  6744,  7028,  7054,\n",
       "        7231,  7276,  7787,  7815,  8039,  8135,  8171,  8315,  8361,\n",
       "        8463,  8505,  8509,  8512,  8557,  8573,  8635,  8826,  8862,\n",
       "        8921,  8930,  9036,  9054,  9064,  9111,  9238,  9242,  9258,\n",
       "        9315,  9672,  9917, 10207, 10263, 10383, 10491, 10673, 11053,\n",
       "       11205, 11263, 11315, 11349, 11448, 11580, 11741, 11793, 11853,\n",
       "       11862, 11982, 12011, 12126, 12150, 12326, 12344, 12370, 12731,\n",
       "       12859, 12869, 12991, 13122, 13134, 13169, 13208, 13287, 13289,\n",
       "       13347, 13426, 13505, 13661, 13710, 13712])"
      ]
     },
     "execution_count": 24,
     "metadata": {},
     "output_type": "execute_result"
    }
   ],
   "source": [
    "np.setxor1d(id1, id2)"
   ]
  },
  {
   "cell_type": "code",
   "execution_count": 14,
   "metadata": {},
   "outputs": [],
   "source": [
    "ids = np.concatenate((id1, id2))"
   ]
  },
  {
   "cell_type": "code",
   "execution_count": 22,
   "metadata": {},
   "outputs": [],
   "source": [
    "pd.DataFrame({\"image_id\": np.unique(ids)}).set_index(\"image_id\").to_csv(\"wrong_df_compare.csv\")"
   ]
  }
 ],
 "metadata": {
  "kernelspec": {
   "display_name": "mlis2",
   "language": "python",
   "name": "python3"
  },
  "language_info": {
   "codemirror_mode": {
    "name": "ipython",
    "version": 3
   },
   "file_extension": ".py",
   "mimetype": "text/x-python",
   "name": "python",
   "nbconvert_exporter": "python",
   "pygments_lexer": "ipython3",
   "version": "3.9.21"
  }
 },
 "nbformat": 4,
 "nbformat_minor": 2
}
