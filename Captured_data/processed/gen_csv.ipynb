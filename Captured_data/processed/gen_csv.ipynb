{
 "cells": [
  {
   "cell_type": "code",
   "execution_count": 2,
   "metadata": {},
   "outputs": [],
   "source": [
    "import os\n",
    "import numpy as np\n",
    "import pandas as pd"
   ]
  },
  {
   "cell_type": "code",
   "execution_count": 3,
   "metadata": {},
   "outputs": [],
   "source": [
    "current_dir = \"/mnt/c/Users/psamt/OneDrive - The University of Nottingham/_Spring/PHYS4036_Machine Learning in Science Part II/Project/Captured_data/processed\"\n",
    "\n",
    "# list folders\n",
    "directories = [\n",
    "    d for d in os.listdir(current_dir) if os.path.isdir(os.path.join(current_dir, d))\n",
    "]\n",
    "\n",
    "directories = directories\n",
    "\n",
    "for dir in directories:\n",
    "    full_dir = os.path.join(current_dir, dir)\n",
    "    png_files = [f for f in os.listdir(full_dir) if f.endswith(\".png\")]\n",
    "\n",
    "    image_id_list = []\n",
    "    speed_list = []\n",
    "    angle_list = []\n",
    "    red_light_list = []\n",
    "    obj_ahead_list = []\n",
    "    left_arrow_list = []\n",
    "    right_arrow_list = []\n",
    "\n",
    "    for png_file in png_files:\n",
    "        png_path = f\"{dir}/{png_file}\"\n",
    "        image_id = png_file.split(\".\")[0]\n",
    "        angle = (float(png_file.split(\"_\")[1]) - 50) / 80\n",
    "        # speed = (float(png_file.split(\"_\")[2].split(\".\")[0])) / 35\n",
    "        is_red = \"red\" in dir\n",
    "        is_obj_ahead = \"obj\" in dir\n",
    "        is_left_arrow = \"left\" in dir\n",
    "        is_right_arrow = \"right\" in dir\n",
    "        speed = 0 if is_red or is_obj_ahead else 1\n",
    "\n",
    "        image_id_list.append(image_id)\n",
    "        angle_list.append(angle)\n",
    "        speed_list.append(speed)\n",
    "        red_light_list.append(int(is_red))\n",
    "        obj_ahead_list.append(int(is_obj_ahead))\n",
    "        left_arrow_list.append(int(is_left_arrow))\n",
    "        right_arrow_list.append(int(is_right_arrow))\n",
    "\n",
    "    df = pd.DataFrame(\n",
    "        {\n",
    "            \"image_id\": image_id_list,\n",
    "            \"angle\": angle_list,\n",
    "            \"speed\": speed_list,\n",
    "            \"red_light\": red_light_list,\n",
    "            \"obj_ahead\": obj_ahead_list,\n",
    "            \"left_arrow\": left_arrow_list,\n",
    "            \"right_arrow\": right_arrow_list,\n",
    "        }\n",
    "    )\n",
    "    df.set_index(\"image_id\", inplace=True)\n",
    "    df_path = None\n",
    "    if \"left\" in dir or \"right\" in dir:\n",
    "        df_path = f\"{full_dir}/_labels_unprocessed.csv\"\n",
    "    else:\n",
    "        df_path = f\"{full_dir}/_labels.csv\"\n",
    "    df.to_csv(df_path)"
   ]
  }
 ],
 "metadata": {
  "kernelspec": {
   "display_name": "mlis2",
   "language": "python",
   "name": "python3"
  },
  "language_info": {
   "codemirror_mode": {
    "name": "ipython",
    "version": 3
   },
   "file_extension": ".py",
   "mimetype": "text/x-python",
   "name": "python",
   "nbconvert_exporter": "python",
   "pygments_lexer": "ipython3",
   "version": "3.9.21"
  }
 },
 "nbformat": 4,
 "nbformat_minor": 2
}
