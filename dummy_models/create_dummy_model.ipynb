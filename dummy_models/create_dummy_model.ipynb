{
 "cells": [
  {
   "cell_type": "code",
   "execution_count": 6,
   "metadata": {},
   "outputs": [
    {
     "name": "stdout",
     "output_type": "stream",
     "text": [
      "pd.__version__: 2.2.3\n",
      "tf.__version__: 2.15.1\n"
     ]
    }
   ],
   "source": [
    "import pandas as pd\n",
    "import os\n",
    "import numpy as np\n",
    "import tensorflow as tf\n",
    "from tensorflow import keras\n",
    "from keras import layers, Model\n",
    "import keras as k\n",
    "\n",
    "import sklearn\n",
    "\n",
    "from sklearn.utils.class_weight import compute_class_weight\n",
    "from sklearn.model_selection import train_test_split\n",
    "\n",
    "from keras.initializers import GlorotUniform\n",
    "\n",
    "from matplotlib import pyplot as plt\n",
    "import seaborn as sns\n",
    "import scipy\n",
    "\n",
    "from datetime import datetime\n",
    "\n",
    "import pickle\n",
    "\n",
    "from PIL import Image\n",
    "\n",
    "print(f\"pd.__version__: {pd.__version__}\")\n",
    "print(f\"tf.__version__: {tf.__version__}\")\n",
    "\n",
    "image_size = (96, 128)"
   ]
  },
  {
   "cell_type": "code",
   "execution_count": 7,
   "metadata": {},
   "outputs": [
    {
     "name": "stdout",
     "output_type": "stream",
     "text": [
      "WARNING:tensorflow:`input_shape` is undefined or non-square, or `rows` is not 224. Weights for input shape (224, 224) will be loaded as the default.\n"
     ]
    }
   ],
   "source": [
    "image_shape = (image_size[0], image_size[1], 3)\n",
    "\n",
    "base_model = keras.applications.MobileNetV3Small(\n",
    "    include_top=False,\n",
    "    weights=\"imagenet\",\n",
    "    input_shape=image_shape,\n",
    "    pooling=None,\n",
    "    include_preprocessing=False, \n",
    ")\n",
    "base_model.trainable = False"
   ]
  },
  {
   "cell_type": "code",
   "execution_count": 8,
   "metadata": {},
   "outputs": [
    {
     "name": "stdout",
     "output_type": "stream",
     "text": [
      "(None, 3, 4, 576)\n"
     ]
    }
   ],
   "source": [
    "feature_extractor = base_model.output\n",
    "\n",
    "print(feature_extractor.shape)\n",
    "\n",
    "a_model = []\n",
    "\n",
    "output_activation_1 = 'sigmoid'\n",
    "\n",
    "\n",
    "# model 0\n",
    "i = 0\n",
    "\n",
    "a = feature_extractor\n",
    "a = layers.Conv2D(384, (3, 3), padding='same', \n",
    "                  kernel_initializer='he_uniform', name=f'a{i}_conv_2')(feature_extractor)\n",
    "a = layers.BatchNormalization(name=f'a{i}_bn_2')(a)\n",
    "a = layers.Activation('relu', name=f'a{i}_relu_2')(a)\n",
    "a = layers.Conv2D(128, (3, 3), padding='same', \n",
    "                  kernel_initializer='he_uniform', name=f'a{i}_conv_1')(feature_extractor)\n",
    "a = layers.BatchNormalization(name=f'a{i}_bn_1')(a)\n",
    "a = layers.Activation('relu', name=f'a{i}_relu_1')(a)\n",
    "a = layers.GlobalAveragePooling2D(name=f'a{i}_GAP')(a)\n",
    "a = layers.Dense(96, activation='relu', kernel_initializer='he_uniform', name=f'a{i}_dense_2')(a)\n",
    "a = layers.Dropout(0.5, name=f'a{i}_dropout_2')(a)\n",
    "a = layers.Dense(64, activation='relu', kernel_initializer='he_uniform', name=f'a{i}_dense_1')(a)\n",
    "a = layers.Dropout(0.5, name=f'a{i}_dropout')(a)\n",
    "\n",
    "# Branch 1: No arrow (regression, 0 to 1)\n",
    "arrow_output = layers.Dense(3, activation=\"softmax\", name='no_arrow_output')(a)"
   ]
  },
  {
   "cell_type": "code",
   "execution_count": 9,
   "metadata": {},
   "outputs": [],
   "source": [
    "model = Model(inputs=base_model.input, outputs=arrow_output, name=\"angle_model\")\n",
    "\n",
    "learning_rate = 0.0010\n",
    "\n",
    "model.compile(\n",
    "    optimizer=keras.optimizers.Adam(learning_rate=learning_rate),\n",
    "    loss='mse',\n",
    "    metrics=['accuracy'],\n",
    ")"
   ]
  },
  {
   "cell_type": "code",
   "execution_count": 10,
   "metadata": {},
   "outputs": [],
   "source": [
    "model.save_weights(f\"{image_size[0]}x{image_size[1]}.weights.h5\")"
   ]
  }
 ],
 "metadata": {
  "kernelspec": {
   "display_name": "mlis2",
   "language": "python",
   "name": "python3"
  },
  "language_info": {
   "codemirror_mode": {
    "name": "ipython",
    "version": 3
   },
   "file_extension": ".py",
   "mimetype": "text/x-python",
   "name": "python",
   "nbconvert_exporter": "python",
   "pygments_lexer": "ipython3",
   "version": "3.9.21"
  }
 },
 "nbformat": 4,
 "nbformat_minor": 2
}
